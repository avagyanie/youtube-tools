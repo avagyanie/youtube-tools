{
 "cells": [
  {
   "cell_type": "code",
   "execution_count": 8,
   "metadata": {},
   "outputs": [],
   "source": [
    "from tqdm import tqdm\n",
    "from pytubefix import Playlist, YouTube"
   ]
  },
  {
   "cell_type": "code",
   "execution_count": 9,
   "metadata": {},
   "outputs": [],
   "source": [
    "URL = 'https://www.youtube.com/watch?v=LkaOWVPS7PY'"
   ]
  },
  {
   "cell_type": "code",
   "execution_count": 24,
   "metadata": {},
   "outputs": [],
   "source": [
    "def get_info(url: str) -> dict:\n",
    "    \"\"\"\n",
    "    Fetches basic info about a YouTube video.\n",
    "\n",
    "    Note:\n",
    "        Returns 1. title, 2. author, 3. description, 4. views, 5. length, \n",
    "        6. publish_date, 7. thumbnail_url\n",
    "\n",
    "    Args:\n",
    "        url (str): The url of the video.\n",
    "        \n",
    "    Returns:\n",
    "        dict: dictionary containing the video's title, author, description, \n",
    "        views, length, publish_date, thumbnail_url\n",
    "    \"\"\"\n",
    "    yt = YouTube(url)\n",
    "    data = {\n",
    "        'title': yt.title,\n",
    "        'author': yt.author,\n",
    "        'description': yt.description,\n",
    "        'views': yt.views,\n",
    "        'length': yt.length,\n",
    "        'publish_date': yt.publish_date.strftime('%Y-%m-%d') if yt.publish_date else None,\n",
    "        'thumbnail_url': yt.thumbnail_url\n",
    "    }\n",
    "    return data\n"
   ]
  },
  {
   "cell_type": "code",
   "execution_count": 25,
   "metadata": {},
   "outputs": [
    {
     "data": {
      "text/plain": [
       "{'title': 'Կարգին Հաղորդում (The Best) - Թողարկում 12',\n",
       " 'author': 'KARGIN SHOW',\n",
       " 'description': '',\n",
       " 'views': 433049,\n",
       " 'length': 1754,\n",
       " 'publish_date': '2021-02-06',\n",
       " 'thumbnail_url': 'https://i.ytimg.com/vi/LkaOWVPS7PY/sddefault.jpg'}"
      ]
     },
     "execution_count": 25,
     "metadata": {},
     "output_type": "execute_result"
    }
   ],
   "source": [
    "get_info(URL)"
   ]
  },
  {
   "cell_type": "markdown",
   "metadata": {},
   "source": [
    "# Playlist"
   ]
  },
  {
   "cell_type": "code",
   "execution_count": 26,
   "metadata": {},
   "outputs": [],
   "source": [
    "PLAYLIST_URL = 'https://www.youtube.com/watch?v=vCVZUMun37U&list=PLk4nzq9lMqGS_0xzQjCkKl_VssLYPWI9f'"
   ]
  },
  {
   "cell_type": "code",
   "execution_count": 21,
   "metadata": {},
   "outputs": [],
   "source": [
    "def get_playlist_info(pl_url: str) -> list:\n",
    "    \"\"\"\n",
    "    Fetches basic info about a YouTube playlist.\n",
    "   \n",
    "    Args:\n",
    "        pl (Playlist): The YouTube playlist object.\n",
    "        \n",
    "    Returns:\n",
    "        dict: dictionary containing the playlist's videos' title, author, description, \n",
    "        views, length, publish_date, thumbnail_url\n",
    "    \"\"\"\n",
    "    pl = Playlist(pl_url)\n",
    "    all_videos = []\n",
    "    for video in tqdm(pl.video_urls):\n",
    "        all_videos.append(get_info(video))\n",
    "    all_videos.sort(key=lambda x: x['views'], reverse=True)\n",
    "    return all_videos"
   ]
  },
  {
   "cell_type": "code",
   "execution_count": 27,
   "metadata": {},
   "outputs": [
    {
     "name": "stderr",
     "output_type": "stream",
     "text": [
      "100%|██████████| 10/10 [00:17<00:00,  1.76s/it]\n"
     ]
    },
    {
     "data": {
      "text/plain": [
       "[{'title': 'Սիրելի Սահմի, Սերիա 1 / Sireli Sahmi',\n",
       "  'author': 'PanArmenian TV',\n",
       "  'description': 'Follow Armenia TV on social platforms:\\nInstagram: https://www.instagram.com/armeniatv.official/\\nFacebook: https://www.facebook.com/ArmeniaTVMain/\\n#ՍիրելիՍահմի #SireliSahmi #ATV',\n",
       "  'views': 1447093,\n",
       "  'length': 2076,\n",
       "  'publish_date': '2024-03-05',\n",
       "  'thumbnail_url': 'https://i.ytimg.com/vi/vCVZUMun37U/sddefault.jpg'},\n",
       " {'title': 'Սիրելի Սահմի, Սերիա 2 / Sireli Sahmi',\n",
       "  'author': 'PanArmenian TV',\n",
       "  'description': 'Follow Armenia TV on social platforms:\\nInstagram: https://www.instagram.com/armeniatv.official/\\nFacebook: https://www.facebook.com/ArmeniaTVMain/\\n#ՍիրելիՍահմի #SireliSahmi #ATV',\n",
       "  'views': 905650,\n",
       "  'length': 2041,\n",
       "  'publish_date': '2024-03-07',\n",
       "  'thumbnail_url': 'https://i.ytimg.com/vi/v_Bhz8x6sIs/sddefault.jpg'},\n",
       " {'title': 'Սիրելի Սահմի, Սերիա 3 / Sireli Sahmi',\n",
       "  'author': 'PanArmenian TV',\n",
       "  'description': 'Follow Armenia TV on social platforms:\\nInstagram: https://www.instagram.com/armeniatv.official/\\nFacebook: https://www.facebook.com/ArmeniaTVMain/\\n#ՍիրելիՍահմի #SireliSahmi #ATV',\n",
       "  'views': 866272,\n",
       "  'length': 2627,\n",
       "  'publish_date': '2024-03-12',\n",
       "  'thumbnail_url': 'https://i.ytimg.com/vi/V0zZRhbJWnE/sddefault.jpg'},\n",
       " {'title': 'Սիրելի Սահմի, Սերիա 4 / Sireli Sahmi',\n",
       "  'author': 'PanArmenian TV',\n",
       "  'description': 'Follow Armenia TV on social platforms:\\nInstagram: https://www.instagram.com/armeniatv.official/\\nFacebook: https://www.facebook.com/ArmeniaTVMain/\\n#ՍիրելիՍահմի #SireliSahmi #ATV',\n",
       "  'views': 829683,\n",
       "  'length': 1882,\n",
       "  'publish_date': '2024-03-14',\n",
       "  'thumbnail_url': 'https://i.ytimg.com/vi/KITii3PZG68/sddefault.jpg'},\n",
       " {'title': 'Սիրելի Սահմի, Սերիա 6 / Sireli Sahmi',\n",
       "  'author': 'PanArmenian TV',\n",
       "  'description': 'Follow Armenia TV on social platforms:\\nInstagram: https://www.instagram.com/armeniatv.official/\\nFacebook: https://www.facebook.com/ArmeniaTVMain/\\n#ՍիրելիՍահմի #SireliSahmi #ATV',\n",
       "  'views': 811542,\n",
       "  'length': 2176,\n",
       "  'publish_date': '2024-03-21',\n",
       "  'thumbnail_url': 'https://i.ytimg.com/vi/D_IzY0_Viww/sddefault.jpg'},\n",
       " {'title': 'Սիրելի Սահմի, Սերիա 8 / Sireli Sahmi',\n",
       "  'author': 'PanArmenian TV',\n",
       "  'description': 'Follow Armenia TV on social platforms:\\nInstagram: https://www.instagram.com/armeniatv.official/\\nFacebook: https://www.facebook.com/ArmeniaTVMain/\\n#ՍիրելիՍահմի #SireliSahmi #ATV',\n",
       "  'views': 748340,\n",
       "  'length': 1840,\n",
       "  'publish_date': '2024-03-28',\n",
       "  'thumbnail_url': 'https://i.ytimg.com/vi/ElV6wrsa83w/sddefault.jpg'},\n",
       " {'title': 'Սիրելի Սահմի, Սերիա 5 / Sireli Sahmi',\n",
       "  'author': 'PanArmenian TV',\n",
       "  'description': 'Follow Armenia TV on social platforms:\\nInstagram: https://www.instagram.com/armeniatv.official/\\nFacebook: https://www.facebook.com/ArmeniaTVMain/\\n#ՍիրելիՍահմի #SireliSahmi #ATV',\n",
       "  'views': 722321,\n",
       "  'length': 1681,\n",
       "  'publish_date': '2024-03-19',\n",
       "  'thumbnail_url': 'https://i.ytimg.com/vi/yzrgZ8iiDtw/sddefault.jpg'},\n",
       " {'title': 'Սիրելի Սահմի, Սերիա 7 / Sireli Sahmi',\n",
       "  'author': 'PanArmenian TV',\n",
       "  'description': 'Follow Armenia TV on social platforms:\\nInstagram: https://www.instagram.com/armeniatv.official/\\nFacebook: https://www.facebook.com/ArmeniaTVMain/\\n#ՍիրելիՍահմի #SireliSahmi #ATV',\n",
       "  'views': 694139,\n",
       "  'length': 1512,\n",
       "  'publish_date': '2024-03-26',\n",
       "  'thumbnail_url': 'https://i.ytimg.com/vi/73qcM6E7PL8/sddefault.jpg'},\n",
       " {'title': 'Սիրելի Սահմի, Վերջին Սերիա / Sireli Sahmi',\n",
       "  'author': 'PanArmenian TV',\n",
       "  'description': 'Follow Armenia TV on social platforms:\\nInstagram: https://www.instagram.com/armeniatv.official/\\nFacebook: https://www.facebook.com/ArmeniaTVMain/\\n#ՍիրելիՍահմի #SireliSahmi #ATV',\n",
       "  'views': 659120,\n",
       "  'length': 1480,\n",
       "  'publish_date': '2024-04-04',\n",
       "  'thumbnail_url': 'https://i.ytimg.com/vi/vrAhIujgins/sddefault.jpg'},\n",
       " {'title': 'Սիրելի Սահմի, Սերիա 9 / Sireli Sahmi',\n",
       "  'author': 'PanArmenian TV',\n",
       "  'description': 'Follow Armenia TV on social platforms:\\nInstagram: https://www.instagram.com/armeniatv.official/\\nFacebook: https://www.facebook.com/ArmeniaTVMain/\\n#ՍիրելիՍահմի #SireliSahmi #ATV',\n",
       "  'views': 641221,\n",
       "  'length': 1742,\n",
       "  'publish_date': '2024-04-02',\n",
       "  'thumbnail_url': 'https://i.ytimg.com/vi/Oi88wUx0rhU/sddefault.jpg'}]"
      ]
     },
     "execution_count": 27,
     "metadata": {},
     "output_type": "execute_result"
    }
   ],
   "source": [
    "get_playlist_info(PLAYLIST_URL)"
   ]
  }
 ],
 "metadata": {
  "kernelspec": {
   "display_name": "youtube",
   "language": "python",
   "name": "python3"
  },
  "language_info": {
   "codemirror_mode": {
    "name": "ipython",
    "version": 3
   },
   "file_extension": ".py",
   "mimetype": "text/x-python",
   "name": "python",
   "nbconvert_exporter": "python",
   "pygments_lexer": "ipython3",
   "version": "3.13.3"
  },
  "orig_nbformat": 4
 },
 "nbformat": 4,
 "nbformat_minor": 2
}
