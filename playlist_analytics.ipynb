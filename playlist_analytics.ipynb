{
 "cells": [
  {
   "cell_type": "code",
   "execution_count": 8,
   "metadata": {},
   "outputs": [],
   "source": [
    "import time\n",
    "from tqdm import tqdm\n",
    "from pytubefix import Playlist, YouTube"
   ]
  },
  {
   "cell_type": "code",
   "execution_count": 9,
   "metadata": {},
   "outputs": [],
   "source": [
    "URL = 'https://www.youtube.com/watch?v=LkaOWVPS7PY'"
   ]
  },
  {
   "cell_type": "code",
   "execution_count": 12,
   "metadata": {},
   "outputs": [],
   "source": [
    "def get_info(url: str) -> dict:\n",
    "    \"\"\"\n",
    "    Fetches basic info about a YouTube video.\n",
    "\n",
    "    Note:\n",
    "        Returns 1. title, 2. author, 3. description, 4. views, 5. length, \n",
    "        6. publish_date, 7. thumbnail_url\n",
    "\n",
    "    Args:\n",
    "        url (str): The url of the video.\n",
    "        \n",
    "    Returns:\n",
    "        dict: dictionary containing the video's title, author, description, \n",
    "        views, length, publish_date, thumbnail_url\n",
    "    \"\"\"\n",
    "    yt = YouTube(url)\n",
    "    data = {\n",
    "        'title': yt.title,\n",
    "        'author': yt.author,\n",
    "        'description': yt.description,\n",
    "        'views': yt.views,\n",
    "        'length': yt.length,\n",
    "        'publish_date': yt.publish_date,\n",
    "        'thumbnail_url': yt.thumbnail_url\n",
    "            }\n",
    "    return data"
   ]
  },
  {
   "cell_type": "code",
   "execution_count": 13,
   "metadata": {},
   "outputs": [
    {
     "data": {
      "text/plain": [
       "{'title': 'Կարգին Հաղորդում (The Best) - Թողարկում 12',\n",
       " 'author': 'KARGIN SHOW',\n",
       " 'description': '',\n",
       " 'views': 433036,\n",
       " 'length': 1754,\n",
       " 'publish_date': datetime.datetime(2021, 2, 6, 8, 12, 5, tzinfo=datetime.timezone(datetime.timedelta(days=-1, seconds=57600))),\n",
       " 'thumbnail_url': 'https://i.ytimg.com/vi/LkaOWVPS7PY/sddefault.jpg'}"
      ]
     },
     "execution_count": 13,
     "metadata": {},
     "output_type": "execute_result"
    }
   ],
   "source": [
    "get_info(URL)"
   ]
  },
  {
   "cell_type": "markdown",
   "metadata": {},
   "source": [
    "# Playlist"
   ]
  },
  {
   "cell_type": "code",
   "execution_count": 14,
   "metadata": {},
   "outputs": [],
   "source": [
    "PLAYLIST_URL = 'https://www.youtube.com/watch?v=vCVZUMun37U&list=PLk4nzq9lMqGS_0xzQjCkKl_VssLYPWI9f'"
   ]
  },
  {
   "cell_type": "code",
   "execution_count": 21,
   "metadata": {},
   "outputs": [],
   "source": [
    "def get_playlist_info(pl_url: str) -> list:\n",
    "    \"\"\"\n",
    "    Fetches basic info about a YouTube playlist.\n",
    "   \n",
    "    Args:\n",
    "        pl (Playlist): The YouTube playlist object.\n",
    "        \n",
    "    Returns:\n",
    "        dict: dictionary containing the playlist's videos' title, author, description, \n",
    "        views, length, publish_date, thumbnail_url\n",
    "    \"\"\"\n",
    "    pl = Playlist(pl_url)\n",
    "    all_videos = []\n",
    "    for video in tqdm(pl.video_urls):\n",
    "        all_videos.append(get_info(video))\n",
    "    all_videos.sort(key=lambda x: x['views'], reverse=True)\n",
    "    return all_videos"
   ]
  },
  {
   "cell_type": "code",
   "execution_count": 22,
   "metadata": {},
   "outputs": [
    {
     "name": "stderr",
     "output_type": "stream",
     "text": [
      "100%|██████████| 10/10 [00:16<00:00,  1.64s/it]\n"
     ]
    },
    {
     "data": {
      "text/plain": [
       "[{'title': 'Սիրելի Սահմի, Սերիա 1 / Sireli Sahmi',\n",
       "  'author': 'PanArmenian TV',\n",
       "  'description': 'Follow Armenia TV on social platforms:\\nInstagram: https://www.instagram.com/armeniatv.official/\\nFacebook: https://www.facebook.com/ArmeniaTVMain/\\n#ՍիրելիՍահմի #SireliSahmi #ATV',\n",
       "  'views': 1447093,\n",
       "  'length': 2076,\n",
       "  'publish_date': datetime.datetime(2024, 3, 5, 9, 15, 2, tzinfo=datetime.timezone(datetime.timedelta(days=-1, seconds=57600))),\n",
       "  'thumbnail_url': 'https://i.ytimg.com/vi/vCVZUMun37U/sddefault.jpg'},\n",
       " {'title': 'Սիրելի Սահմի, Սերիա 2 / Sireli Sahmi',\n",
       "  'author': 'PanArmenian TV',\n",
       "  'description': 'Follow Armenia TV on social platforms:\\nInstagram: https://www.instagram.com/armeniatv.official/\\nFacebook: https://www.facebook.com/ArmeniaTVMain/\\n#ՍիրելիՍահմի #SireliSahmi #ATV',\n",
       "  'views': 905650,\n",
       "  'length': 2041,\n",
       "  'publish_date': datetime.datetime(2024, 3, 7, 9, 15, 4, tzinfo=datetime.timezone(datetime.timedelta(days=-1, seconds=57600))),\n",
       "  'thumbnail_url': 'https://i.ytimg.com/vi/v_Bhz8x6sIs/sddefault.jpg'},\n",
       " {'title': 'Սիրելի Սահմի, Սերիա 3 / Sireli Sahmi',\n",
       "  'author': 'PanArmenian TV',\n",
       "  'description': 'Follow Armenia TV on social platforms:\\nInstagram: https://www.instagram.com/armeniatv.official/\\nFacebook: https://www.facebook.com/ArmeniaTVMain/\\n#ՍիրելիՍահմի #SireliSahmi #ATV',\n",
       "  'views': 866272,\n",
       "  'length': 2627,\n",
       "  'publish_date': datetime.datetime(2024, 3, 12, 10, 15, 1, tzinfo=datetime.timezone(datetime.timedelta(days=-1, seconds=61200))),\n",
       "  'thumbnail_url': 'https://i.ytimg.com/vi/V0zZRhbJWnE/sddefault.jpg'},\n",
       " {'title': 'Սիրելի Սահմի, Սերիա 4 / Sireli Sahmi',\n",
       "  'author': 'PanArmenian TV',\n",
       "  'description': 'Follow Armenia TV on social platforms:\\nInstagram: https://www.instagram.com/armeniatv.official/\\nFacebook: https://www.facebook.com/ArmeniaTVMain/\\n#ՍիրելիՍահմի #SireliSahmi #ATV',\n",
       "  'views': 829666,\n",
       "  'length': 1882,\n",
       "  'publish_date': datetime.datetime(2024, 3, 14, 10, 15, tzinfo=datetime.timezone(datetime.timedelta(days=-1, seconds=61200))),\n",
       "  'thumbnail_url': 'https://i.ytimg.com/vi/KITii3PZG68/sddefault.jpg'},\n",
       " {'title': 'Սիրելի Սահմի, Սերիա 6 / Sireli Sahmi',\n",
       "  'author': 'PanArmenian TV',\n",
       "  'description': 'Follow Armenia TV on social platforms:\\nInstagram: https://www.instagram.com/armeniatv.official/\\nFacebook: https://www.facebook.com/ArmeniaTVMain/\\n#ՍիրելիՍահմի #SireliSahmi #ATV',\n",
       "  'views': 811539,\n",
       "  'length': 2176,\n",
       "  'publish_date': datetime.datetime(2024, 3, 21, 10, 15, 1, tzinfo=datetime.timezone(datetime.timedelta(days=-1, seconds=61200))),\n",
       "  'thumbnail_url': 'https://i.ytimg.com/vi/D_IzY0_Viww/sddefault.jpg'},\n",
       " {'title': 'Սիրելի Սահմի, Սերիա 8 / Sireli Sahmi',\n",
       "  'author': 'PanArmenian TV',\n",
       "  'description': 'Follow Armenia TV on social platforms:\\nInstagram: https://www.instagram.com/armeniatv.official/\\nFacebook: https://www.facebook.com/ArmeniaTVMain/\\n#ՍիրելիՍահմի #SireliSahmi #ATV',\n",
       "  'views': 748337,\n",
       "  'length': 1840,\n",
       "  'publish_date': datetime.datetime(2024, 3, 28, 10, 15, tzinfo=datetime.timezone(datetime.timedelta(days=-1, seconds=61200))),\n",
       "  'thumbnail_url': 'https://i.ytimg.com/vi/ElV6wrsa83w/sddefault.jpg'},\n",
       " {'title': 'Սիրելի Սահմի, Սերիա 5 / Sireli Sahmi',\n",
       "  'author': 'PanArmenian TV',\n",
       "  'description': 'Follow Armenia TV on social platforms:\\nInstagram: https://www.instagram.com/armeniatv.official/\\nFacebook: https://www.facebook.com/ArmeniaTVMain/\\n#ՍիրելիՍահմի #SireliSahmi #ATV',\n",
       "  'views': 722321,\n",
       "  'length': 1681,\n",
       "  'publish_date': datetime.datetime(2024, 3, 19, 10, 15, 3, tzinfo=datetime.timezone(datetime.timedelta(days=-1, seconds=61200))),\n",
       "  'thumbnail_url': 'https://i.ytimg.com/vi/yzrgZ8iiDtw/sddefault.jpg'},\n",
       " {'title': 'Սիրելի Սահմի, Սերիա 7 / Sireli Sahmi',\n",
       "  'author': 'PanArmenian TV',\n",
       "  'description': 'Follow Armenia TV on social platforms:\\nInstagram: https://www.instagram.com/armeniatv.official/\\nFacebook: https://www.facebook.com/ArmeniaTVMain/\\n#ՍիրելիՍահմի #SireliSahmi #ATV',\n",
       "  'views': 694139,\n",
       "  'length': 1512,\n",
       "  'publish_date': datetime.datetime(2024, 3, 26, 10, 15, tzinfo=datetime.timezone(datetime.timedelta(days=-1, seconds=61200))),\n",
       "  'thumbnail_url': 'https://i.ytimg.com/vi/73qcM6E7PL8/sddefault.jpg'},\n",
       " {'title': 'Սիրելի Սահմի, Վերջին Սերիա / Sireli Sahmi',\n",
       "  'author': 'PanArmenian TV',\n",
       "  'description': 'Follow Armenia TV on social platforms:\\nInstagram: https://www.instagram.com/armeniatv.official/\\nFacebook: https://www.facebook.com/ArmeniaTVMain/\\n#ՍիրելիՍահմի #SireliSahmi #ATV',\n",
       "  'views': 659113,\n",
       "  'length': 1480,\n",
       "  'publish_date': datetime.datetime(2024, 4, 4, 10, 15, 3, tzinfo=datetime.timezone(datetime.timedelta(days=-1, seconds=61200))),\n",
       "  'thumbnail_url': 'https://i.ytimg.com/vi/vrAhIujgins/sddefault.jpg'},\n",
       " {'title': 'Սիրելի Սահմի, Սերիա 9 / Sireli Sahmi',\n",
       "  'author': 'PanArmenian TV',\n",
       "  'description': 'Follow Armenia TV on social platforms:\\nInstagram: https://www.instagram.com/armeniatv.official/\\nFacebook: https://www.facebook.com/ArmeniaTVMain/\\n#ՍիրելիՍահմի #SireliSahmi #ATV',\n",
       "  'views': 641221,\n",
       "  'length': 1742,\n",
       "  'publish_date': datetime.datetime(2024, 4, 2, 10, 15, 2, tzinfo=datetime.timezone(datetime.timedelta(days=-1, seconds=61200))),\n",
       "  'thumbnail_url': 'https://i.ytimg.com/vi/Oi88wUx0rhU/sddefault.jpg'}]"
      ]
     },
     "execution_count": 22,
     "metadata": {},
     "output_type": "execute_result"
    }
   ],
   "source": [
    "get_playlist_info(PLAYLIST_URL)"
   ]
  }
 ],
 "metadata": {
  "kernelspec": {
   "display_name": "youtube",
   "language": "python",
   "name": "python3"
  },
  "language_info": {
   "codemirror_mode": {
    "name": "ipython",
    "version": 3
   },
   "file_extension": ".py",
   "mimetype": "text/x-python",
   "name": "python",
   "nbconvert_exporter": "python",
   "pygments_lexer": "ipython3",
   "version": "3.13.3"
  },
  "orig_nbformat": 4
 },
 "nbformat": 4,
 "nbformat_minor": 2
}
